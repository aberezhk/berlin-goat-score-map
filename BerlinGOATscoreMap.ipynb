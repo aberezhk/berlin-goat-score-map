{
  "nbformat": 4,
  "nbformat_minor": 0,
  "metadata": {
    "colab": {
      "provenance": []
    },
    "kernelspec": {
      "name": "python3",
      "display_name": "Python 3"
    },
    "language_info": {
      "name": "python"
    }
  },
  "cells": [
    {
      "cell_type": "markdown",
      "source": [
        "# Map of the most GOAT Berlin neighborhoods.\n",
        "\n",
        "GOAT score is calculated as the number of 🐐 homes per 1 km2 of each neighborhood. Fake goats were excluded from the analysis.\n",
        "\n",
        "\n",
        "---\n",
        "\n",
        "\n",
        "Goat homes were loacted by [Goats of Berlin](https://www.goatsofberlin.com)\n",
        "\n",
        "Shapes of Berlin neighborhoods borrowed from [Michael Hörz](https://github.com/m-hoerz/berlin-shapes/blob/master/berliner-bezirke.geojson)\n",
        "\n",
        "Map created with [Plotly](https://plotly.com/)"
      ],
      "metadata": {
        "id": "jJThg4QOBkFt"
      }
    },
    {
      "cell_type": "code",
      "source": [
        "%pip install area shapely plotly geopandas"
      ],
      "metadata": {
        "id": "NaqcJeFoBl7m"
      },
      "execution_count": null,
      "outputs": []
    },
    {
      "cell_type": "code",
      "source": [
        "from shapely.geometry import Point\n",
        "\n",
        "\n",
        "# coordinates of Berlin goat homes (https://goatsofberlin.com/)\n",
        "\n",
        "goats = {\n",
        "    \"Children's Farm on the Görlitz e.V.\": [52.49584950661747, 13.438292946678873],\n",
        "    \"Tierpark Neukölln in der Hasenheide\": [52.486883598654, 13.417445329486883],\n",
        "    \"Tiergehege\": [52.48915297815924, 13.380065706463258],\n",
        "    \"Kinderbauernhof Am Mauerplatz\": [52.504951242097256, 13.421079804350144],\n",
        "    \"Blockinitiative 128\": [52.51463217426161, 13.291184194555944],\n",
        "    \"Ziegen- und Hasenhof\": [52.54271282408225, 13.282647227637433],\n",
        "    \"Kinderbunter Bauernhof\": [52.54447179405055, 13.356909794555943],\n",
        "    \"Jugendfarm Moritzhof\": [52.54842683054272, 13.401063082912298],\n",
        "    \"Ziegengehege\": [52.568830179443125, 13.394087442979973],\n",
        "    \"Kinderbauernhof Knirpsenfarm\": [52.57180142698459, 13.485370731336324],\n",
        "    \"Tierhof Marzahn\": [52.54356047191263, 13.563660350377765],\n",
        "    \"Helle Tierarche e.V.\": [52.54133447819932, 13.614680800104292],\n",
        "    \"Playground Koepenick\": [52.46142790374832, 13.576155631336325],\n",
        "    \"WASLALA Kinderbauernhof\": [52.40477224536035, 13.532859573665053],\n",
        "    \"Schloss Britz\": [52.446079968390116, 13.438845689007598],\n",
        "    \"Domäne Dahlem\": [52.458256100141995, 13.28969411599379],\n",
        "    \"Düppel\": [52.4249744216459, 13.236753056473068],\n",
        "    \"Britzer Garten\": [52.43249076133962, 13.412219973665062],\n",
        "    \"Vierfelderhof\": [52.48257071430559, 13.170293086688902],\n",
        "    \"Reiterhof Kosa\": [52.62028096856067, 13.420119462021415],\n",
        "    \"Gemeindepark Lankwitz\": [52.43138193000489, 13.351704312294888],\n",
        "    \"Damwildgehege\": [52.55206485357043, 13.325232754623618],\n",
        "    \"Haus Natur und Umwelt\": [52.46434363213862, 13.543570496405392],\n",
        "    \"Tierpark Berlin\": [52.50230095743021, 13.532218954076663],\n",
        "    \"Berlin Zoological Garden\": [52.50806979261515, 13.337813708595997],\n",
        "}\n",
        "\n",
        "# these are goat statues\n",
        "fake_goats = {\n",
        "    \"Goat statue at Zickenplatz\": [52.49141035174273, 13.422298633185775],\n",
        "    \"Goat statue at Savignyplatz\": [52.506240886112515, 13.32249475092472],\n",
        "    \"Goat statue by police office\": [52.48570363525173, 13.30532883558218],\n",
        "}\n",
        "\n",
        "# convert to Points\n",
        "goat_points = [Point(coord[1], coord[0]) for coord in goats.values()]\n",
        "fake_goat_points = [Point(coord[1], coord[0]) for coord in fake_goats.values()]"
      ],
      "metadata": {
        "id": "Pvi4CssyBpjH"
      },
      "execution_count": null,
      "outputs": []
    },
    {
      "cell_type": "code",
      "source": [
        "import geopandas as gpd\n",
        "from area import area\n",
        "\n",
        "# Germany Zone 4 https://epsg.io/?q=Germany\n",
        "utm_crs = 'ESRI:31494'  # UTM CRS for the chosen zone\n",
        "berlin_data = gpd.read_file('https://raw.githubusercontent.com/m-hoerz/berlin-shapes/master/berliner-bezirke.geojson')\n",
        "\n",
        "# index by bezirk (neighborhood) name\n",
        "berlin_data['bezirk'] = berlin_data['spatial_alias']\n",
        "berlin_data.set_index(\"bezirk\", inplace=True)\n",
        "\n",
        "# https://gis.stackexchange.com/questions/218450/getting-polygon-areas-using-geopandas\n",
        "berlin_data['area'] = berlin_data['geometry'].to_crs(utm_crs).area/ 10**6\n",
        "\n",
        "# get number of goat homes\n",
        "berlin_data['goat_points'] = 0\n",
        "\n",
        "# Iterate through each polygon\n",
        "for index, polygon in berlin_data.iterrows():\n",
        "    # Iterate through each point\n",
        "    for point in goat_points:\n",
        "        # Check if the point is inside the polygon\n",
        "        if point.within(polygon['geometry']):\n",
        "            berlin_data.at[index, 'goat_points'] += 1\n",
        "\n",
        "# GOAT score calculated as number of goats per km2\n",
        "berlin_data['GOAT score'] = (berlin_data['goat_points']/berlin_data['area']).round(3)\n",
        "\n",
        "# berlin_data.sort_values(by='GOAT score', ascending=False)"
      ],
      "metadata": {
        "id": "9rXo2seQCR3w"
      },
      "execution_count": null,
      "outputs": []
    },
    {
      "cell_type": "code",
      "source": [
        "import plotly.express as px\n",
        "import plotly.graph_objects as go\n",
        "\n",
        "# add bezirks to the map (color based on goat density)\n",
        "fig = px.choropleth_mapbox(berlin_data,\n",
        "                           geojson=berlin_data.geometry,\n",
        "                           locations=berlin_data.index,\n",
        "                           color='GOAT score',\n",
        "                           opacity= 0.7,\n",
        "                           color_continuous_scale='Brwnyl',\n",
        "                           center={\"lon\": 13.42, \"lat\": 52.50},\n",
        "                           mapbox_style=\"open-street-map\",\n",
        "                           zoom=9.7)\n",
        "\n",
        "# add goats\n",
        "goat_trace = go.Scattermapbox(\n",
        "    mode = \"markers\",\n",
        "    lon = [str(round(g[1], 5)) for g in goats.values()],\n",
        "    lat = [str(round(g[0], 5)) for g in goats.values()],\n",
        "    marker = go.scattermapbox.Marker(\n",
        "            size=10,\n",
        "            color='black'\n",
        "        ),\n",
        "    text = 'Meeh' # because it is what goats say\n",
        "    )\n",
        "fig.add_trace(goat_trace)\n",
        "\n",
        "\n",
        "fig.update_layout(\n",
        "    width=1000,\n",
        "    height=1000,\n",
        "    font_family=\"Courier New\",\n",
        "    font_color=\"black\",\n",
        "    title=go.layout.Title(\n",
        "        text=\"Berlin's best neighborhoods based on the GOAT score (goatsofberlin.com) <br><sup>GOAT score calculated as the number of 🐐 homes per km2</sup>\",\n",
        "        xref=\"paper\",\n",
        "        x=0\n",
        "    ),\n",
        ")\n",
        "\n",
        "fig.show()"
      ],
      "metadata": {
        "id": "QTrXbXknCWrk"
      },
      "execution_count": null,
      "outputs": []
    }
  ]
}